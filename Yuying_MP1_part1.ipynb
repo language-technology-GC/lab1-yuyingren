{
 "cells": [
  {
   "cell_type": "code",
   "execution_count": 1,
   "metadata": {},
   "outputs": [],
   "source": [
    "import nltk\n",
    "from nltk.corpus import wordnet as wn"
   ]
  },
  {
   "cell_type": "code",
   "execution_count": 2,
   "metadata": {
    "scrolled": true
   },
   "outputs": [
    {
     "name": "stderr",
     "output_type": "stream",
     "text": [
      "[nltk_data] Downloading package wordnet to\n",
      "[nltk_data]     /Users/yuyingren/nltk_data...\n",
      "[nltk_data]   Package wordnet is already up-to-date!\n"
     ]
    },
    {
     "data": {
      "text/plain": [
       "True"
      ]
     },
     "execution_count": 2,
     "metadata": {},
     "output_type": "execute_result"
    }
   ],
   "source": [
    "nltk.download(\"wordnet\")"
   ]
  },
  {
   "cell_type": "code",
   "execution_count": 3,
   "metadata": {
    "scrolled": false
   },
   "outputs": [],
   "source": [
    "### Test nltk wordnet package\n",
    "# cat = wn.synsets(\"cat\")\n",
    "# tiger = wn.synsets(\"tiger\")\n",
    "# print(len(cat))\n",
    "# print(type(cat[0]))\n",
    "# print(len(tiger))\n",
    "# simi = []\n",
    "# count = 0\n",
    "# for c in cat:\n",
    "#     for d in tiger:\n",
    "#         s = c.res_similarity(d, brown_ic)\n",
    "#         if s == True:\n",
    "#             count += 1\n",
    "#         elif s == False:\n",
    "#             continue\n",
    "\n",
    "#         print(count)\n",
    "#         simi.append(s)\n",
    "# print(len(simi))\n",
    "# for ss in simi:\n",
    "#     if ss == None:\n",
    "#         simi.remove(ss)\n"
   ]
  },
  {
   "cell_type": "code",
   "execution_count": 4,
   "metadata": {},
   "outputs": [
    {
     "name": "stdout",
     "output_type": "stream",
     "text": [
      "<class '_io.TextIOWrapper'>\n"
     ]
    }
   ],
   "source": [
    "#### open the humandgement file\n",
    "file_353 = open(\"ws353.tsv\", \"r\")\n",
    "print(type(file_353))\n",
    "# for line in file_353:\n",
    "#     print(line)"
   ]
  },
  {
   "cell_type": "code",
   "execution_count": 5,
   "metadata": {},
   "outputs": [],
   "source": [
    "#### function get dictionary of wordpairs and human scores; and list of wordpairs(tuple)\n",
    "def get_humanscores(file):\n",
    "    word_pairs = []\n",
    "    h_scores = []\n",
    "    for line in file:\n",
    "        lines = line.rstrip().split(\"\\n\")\n",
    "        for item in lines:\n",
    "            items = item.split(\"\\t\")\n",
    "            t1 = items[0]\n",
    "            t2 = items[1]\n",
    "            wp = (t1, t2)\n",
    "            word_pairs.append(wp)\n",
    "            h_scores.append(items[2])\n",
    "    human_scores = dict(zip(word_pairs, h_scores))\n",
    "    return human_scores, word_pairs\n",
    "\n",
    "wp_hscores = get_humanscores(file_353)\n",
    "word_pair = wp_hscores[1]\n",
    "human_scores = wp_hscores[0]\n",
    "# print(word_pair)"
   ]
  },
  {
   "cell_type": "code",
   "execution_count": 6,
   "metadata": {},
   "outputs": [],
   "source": [
    "# print(human_scores)"
   ]
  },
  {
   "cell_type": "code",
   "execution_count": 7,
   "metadata": {},
   "outputs": [],
   "source": [
    "#### function getting dictionary of tuple of wordpairs(key) and tuple of their synsets(lists, value); and the list of synset pairs\n",
    "def get_synsets(wp_list):\n",
    "    tokens1 = []\n",
    "    tokens2 = []\n",
    "    synsets_w1 = []\n",
    "    synsets_w2 = []\n",
    "    syn_pairs = [] \n",
    "    for item in wp_list:\n",
    "        tokens1.append(item[0])\n",
    "        tokens2.append(item[1])\n",
    "    for w1 in tokens1:\n",
    "        synsets_w1.append(wn.synsets(w1))\n",
    "    for w2 in tokens2:\n",
    "        synsets_w2.append(wn.synsets(w2))\n",
    "    syn_pairs = [(synsets_w1[i], synsets_w2[i]) for i in range(0, len(synsets_w1))]\n",
    "    wp_sp = dict(zip(wp_list, syn_pairs))\n",
    "    \n",
    "    return wp_sp, syn_pairs\n"
   ]
  },
  {
   "cell_type": "code",
   "execution_count": 8,
   "metadata": {
    "scrolled": true
   },
   "outputs": [],
   "source": [
    "#### call get_synsets function get the global variable of synpair(list of synset pairs); syndict(dictionary of wordpairs and synset pairs)\n",
    "synsets = get_synsets(word_pair)\n",
    "synpair = synsets[1]\n",
    "syndict = synsets[0]\n",
    "# print(syndict)"
   ]
  },
  {
   "cell_type": "code",
   "execution_count": 9,
   "metadata": {},
   "outputs": [],
   "source": [
    "#### function calculate path similarity: maximize the score to get the highest similarity\n",
    "def path_sim(arg_p:tuple):\n",
    "    simi = []\n",
    "    for i in arg_p[0]:\n",
    "        for j in arg_p[1]:\n",
    "            s = i.path_similarity(j)\n",
    "            if s != None:\n",
    "                simi.append(s)\n",
    "    sim_p = max(simi)\n",
    "                            \n",
    "    return sim_p\n"
   ]
  },
  {
   "cell_type": "code",
   "execution_count": 10,
   "metadata": {
    "scrolled": false
   },
   "outputs": [],
   "source": [
    "# tt = []\n",
    "# for x in syndict:\n",
    "#     y = syndict.get(x)\n",
    "#     try:\n",
    "#         ss = path_sim(y)\n",
    "#         tt.append(ss)\n",
    "#     except:\n",
    "#         pass\n",
    "# print(tt)   "
   ]
  },
  {
   "cell_type": "code",
   "execution_count": 11,
   "metadata": {},
   "outputs": [],
   "source": [
    "#### function pass the syndict dictionary to path_sim function; write all similarity scores into a list and make a dictionary of the wordpair and the scores\n",
    "def get_path_sim(arg_ps: dict):\n",
    "    wp = []\n",
    "    score = []\n",
    "    count =0\n",
    "    for x in arg_ps:\n",
    "        y = arg_ps.get(x)\n",
    "        try:\n",
    "            aa = path_sim(y)\n",
    "            wp.append(x)\n",
    "            score.append(aa)\n",
    "            count += 1\n",
    "        except:\n",
    "            pass\n",
    "    return wp, score, count"
   ]
  },
  {
   "cell_type": "code",
   "execution_count": 12,
   "metadata": {},
   "outputs": [
    {
     "name": "stdout",
     "output_type": "stream",
     "text": [
      "[0.5, 1.0, 0.14285714285714285, 0.16666666666666666, 0.3333333333333333, 0.25, 0.3333333333333333, 0.25, 0.3333333333333333, 0.14285714285714285, 0.125, 0.25, 1.0, 0.3333333333333333, 1.0, 0.3333333333333333, 0.2, 0.3333333333333333, 0.5, 0.3333333333333333, 0.16666666666666666, 0.25, 0.3333333333333333, 0.3333333333333333, 0.3333333333333333, 0.3333333333333333, 1.0, 1.0, 0.5, 0.5, 0.5, 0.5, 1.0, 1.0, 0.1, 0.1, 0.5, 0.25, 0.0625, 0.2, 0.5, 0.3333333333333333, 0.3333333333333333, 0.25, 0.16666666666666666, 0.25, 0.3333333333333333, 0.25, 0.14285714285714285, 0.5, 0.3333333333333333, 0.3333333333333333, 0.25, 0.25, 0.5, 0.16666666666666666, 0.3333333333333333, 0.25, 0.2, 0.25, 0.5, 0.058823529411764705, 0.25, 0.16666666666666666, 0.25, 0.3333333333333333, 0.2, 0.1111111111111111, 0.3333333333333333, 0.08333333333333333, 0.3333333333333333, 0.16666666666666666, 0.5, 0.16666666666666666, 0.5, 0.16666666666666666, 0.3333333333333333, 0.3333333333333333, 1.0, 0.16666666666666666, 0.25, 1.0, 0.3333333333333333, 0.5, 0.09090909090909091, 0.5, 0.3333333333333333, 0.25, 0.09090909090909091, 0.3333333333333333, 0.3333333333333333, 0.2, 0.3333333333333333, 0.1, 0.2, 0.25, 0.5, 0.3333333333333333, 0.14285714285714285, 0.14285714285714285, 0.125, 0.16666666666666666, 0.14285714285714285, 0.1, 0.125, 0.16666666666666666, 0.14285714285714285, 0.1111111111111111, 0.1, 0.1, 0.125, 0.1, 0.25, 0.2, 0.3333333333333333, 0.25, 0.09090909090909091, 0.1111111111111111, 0.2, 0.16666666666666666, 0.2, 0.2, 0.25, 0.1111111111111111, 0.08333333333333333, 0.16666666666666666, 0.14285714285714285, 0.25, 0.14285714285714285, 0.25, 0.25, 0.14285714285714285, 0.16666666666666666, 0.3333333333333333, 0.1, 0.14285714285714285, 0.25, 0.2, 0.16666666666666666, 0.16666666666666666, 0.1111111111111111, 0.25, 0.25, 0.1111111111111111, 0.16666666666666666, 0.3333333333333333, 0.125, 0.14285714285714285, 0.2, 0.1111111111111111, 0.125, 0.07142857142857142, 0.3333333333333333, 0.125, 0.16666666666666666, 0.2, 0.09090909090909091, 0.07692307692307693, 0.16666666666666666, 0.09090909090909091, 0.25, 0.2, 0.14285714285714285, 0.25, 0.1, 0.2, 0.2, 0.2, 0.09090909090909091, 0.1, 0.08333333333333333, 0.3333333333333333, 0.2, 0.3333333333333333, 0.07142857142857142, 0.1111111111111111, 0.14285714285714285, 0.08333333333333333, 0.125, 0.1111111111111111, 0.09090909090909091, 0.16666666666666666, 0.1111111111111111, 0.16666666666666666, 0.08333333333333333, 0.09090909090909091, 0.25, 0.125, 0.14285714285714285, 0.1, 0.25, 0.125, 0.14285714285714285, 0.16666666666666666, 0.16666666666666666, 0.2, 0.2, 0.14285714285714285, 0.041666666666666664, 0.08333333333333333, 0.125, 0.07692307692307693, 0.1]\n",
      "203\n"
     ]
    }
   ],
   "source": [
    "path_wp = get_path_sim(syndict)[0]\n",
    "path_similarity = get_path_sim(syndict)[1]\n",
    "path_count = get_path_sim(syndict)[2]\n",
    "print(path_similarity)\n",
    "print(path_count)"
   ]
  },
  {
   "cell_type": "code",
   "execution_count": 13,
   "metadata": {},
   "outputs": [],
   "source": [
    "import nltk\n",
    "from nltk.corpus import wordnet_ic\n",
    "# nltk.download(\"wordnet_ic\")\n",
    "brown_ic = wordnet_ic.ic('ic-brown.dat')\n",
    "semcor_ic = wordnet_ic.ic('ic-semcor.dat')"
   ]
  },
  {
   "cell_type": "code",
   "execution_count": 14,
   "metadata": {},
   "outputs": [],
   "source": [
    "#### function for calculating Leacock-Chodorow similarity\n",
    "def lch_sim(arg_lch: tuple):\n",
    "    for i in arg_lch[0]:\n",
    "        for j in arg_lch[1]:\n",
    "            sim_lch = i.lch_similarity(j, brown_ic)\n",
    "    return sim_lch"
   ]
  },
  {
   "cell_type": "code",
   "execution_count": 15,
   "metadata": {},
   "outputs": [],
   "source": [
    "\n",
    "# test1 = []\n",
    "# test2 = []\n",
    "# count = 0\n",
    "# def main(arg2: list):\n",
    "#     global count, aa\n",
    "#     for u in arg2:\n",
    "#         try:\n",
    "#             aa = lch_sim(u)\n",
    "#             test1.append(u)\n",
    "#             test2.append(aa)\n",
    "#             count += 1\n",
    "#         except:\n",
    "#             pass\n",
    "#     return test1, test2, count"
   ]
  },
  {
   "cell_type": "code",
   "execution_count": 16,
   "metadata": {},
   "outputs": [],
   "source": [
    "#### function pass syndict to lch_sim function and get the covered word pairs and their scores and put them in dictionary\n",
    "def get_lch_sim(arg_ls: dict):\n",
    "    wp = []\n",
    "    score = []\n",
    "    count = 0\n",
    "    for x in arg_ls:\n",
    "        y = arg_ls.get(x)\n",
    "        try:\n",
    "            aa = lch_sim(y)\n",
    "            wp.append(x)\n",
    "            score.append(aa)\n",
    "            count += 1\n",
    "        except:\n",
    "            pass\n",
    "    return wp, score, count        "
   ]
  },
  {
   "cell_type": "code",
   "execution_count": 17,
   "metadata": {},
   "outputs": [
    {
     "name": "stdout",
     "output_type": "stream",
     "text": [
      "[3.6375861597263857, 0.9295359586241757, 1.55814461804655, 0.6931471805599453, 0.6418538861723948, 2.538973871058276, 0.6931471805599453, 0.9295359586241757, 1.2396908869280152, 2.538973871058276, 1.845826690498331, 2.9444389791664407, 3.6375861597263857, 0.6931471805599453, 1.2396908869280152, 0.9985288301111273, 2.538973871058276, 1.2396908869280152, 1.845826690498331, 0.6931471805599453, 1.4403615823901665, 1.6916760106710724, 1.55814461804655, 0.7472144018302211, 0.9295359586241757, 1.2396908869280152, 1.3350010667323402, 2.538973871058276, 0.7472144018302211, 0.8649974374866046, 0.8043728156701697, 0.9985288301111273, 2.0281482472922856, 1.2396908869280152, 0.9295359586241757, 0.8043728156701697, 1.3350010667323402, 1.3350010667323402, 0.7472144018302211, 1.4403615823901665, 0.9295359586241757, 0.9985288301111273, 0.9985288301111273, 1.6916760106710724, 0.7472144018302211, 2.0281482472922856, 1.1526795099383855, 1.55814461804655, 1.1526795099383855, 1.4403615823901665, 1.1526795099383855, 1.3350010667323402, 1.6916760106710724, 1.1526795099383855, 0.8649974374866046, 1.2396908869280152, 1.55814461804655, 1.072636802264849, 1.2396908869280152, 1.4403615823901665, 1.1526795099383855, 0.9295359586241757, 0.9985288301111273, 0.9295359586241757, 1.072636802264849, 0.9295359586241757, 0.9985288301111273, 1.072636802264849, 1.072636802264849, 1.4403615823901665, 0.9295359586241757, 1.1526795099383855, 0.5020919437972361, 0.9985288301111273]\n",
      "74\n"
     ]
    }
   ],
   "source": [
    "lch_wp = get_lch_sim(syndict)[0]\n",
    "lch_similarity = get_lch_sim(syndict)[1]\n",
    "lch_count = get_lch_sim(syndict)[2]\n",
    "print(lch_similarity)\n",
    "print(lch_count)"
   ]
  },
  {
   "cell_type": "code",
   "execution_count": 18,
   "metadata": {},
   "outputs": [],
   "source": [
    "#### function calculate Wu-Palmer similarity: maximize the score to get the highest similarity\n",
    "def wup_sim(arg_wup: tuple):\n",
    "    simi = []\n",
    "    for i in arg_wup[0]:\n",
    "        for j in arg_wup[1]:\n",
    "            s = i.wup_similarity(j)\n",
    "            if s != None:\n",
    "                simi.append(s)\n",
    "    sim_wup = max(simi)\n",
    "    return sim_wup\n",
    "# oo = synpair[0]\n",
    "# print(oo)\n",
    "# ooo = wup_sim(oo)\n",
    "# print(ooo)"
   ]
  },
  {
   "cell_type": "code",
   "execution_count": 19,
   "metadata": {},
   "outputs": [],
   "source": [
    "#### function pass the syndict dictionary to wup_sim function; write all similarity scores into a list and make a dictionary of the wordpair and the scores\n",
    "def get_wup_sim(arg_wup: dict):\n",
    "    wp = []\n",
    "    score = []\n",
    "    count =0\n",
    "    for x in arg_wup:\n",
    "        y = arg_wup.get(x)\n",
    "        try:\n",
    "            aa = wup_sim(y)\n",
    "            wp.append(x)\n",
    "            score.append(aa)\n",
    "            count += 1\n",
    "        except:\n",
    "            pass\n",
    "    return wp, score, count"
   ]
  },
  {
   "cell_type": "code",
   "execution_count": 20,
   "metadata": {},
   "outputs": [
    {
     "name": "stdout",
     "output_type": "stream",
     "text": [
      "[0.9655172413793104, 1.0, 0.7272727272727273, 0.7368421052631579, 0.9090909090909091, 0.8235294117647058, 0.75, 0.8235294117647058, 0.8695652173913043, 0.5454545454545454, 0.5714285714285714, 0.4, 1.0, 0.875, 1.0, 0.9090909090909091, 0.5454545454545454, 0.8571428571428571, 0.96, 0.9, 0.782608695652174, 0.5714285714285714, 0.9, 0.9090909090909091, 0.9090909090909091, 0.3333333333333333, 1.0, 1.0, 0.9523809523809523, 0.9473684210526315, 0.9090909090909091, 0.9523809523809523, 1.0, 1.0, 0.5263157894736842, 0.4, 0.9523809523809523, 0.8695652173913043, 0.21052631578947367, 0.7777777777777778, 0.9333333333333333, 0.9333333333333333, 0.9285714285714286, 0.8888888888888888, 0.8, 0.8, 0.8571428571428571, 0.8, 0.7272727272727273, 0.9411764705882353, 0.875, 0.8571428571428571, 0.8, 0.8, 0.9230769230769231, 0.6153846153846154, 0.8888888888888888, 0.7692307692307693, 0.5454545454545454, 0.4, 0.9655172413793104, 0.3333333333333333, 0.8, 0.6666666666666666, 0.631578947368421, 0.8333333333333334, 0.6666666666666666, 0.26666666666666666, 0.9166666666666666, 0.26666666666666666, 0.8571428571428571, 0.6666666666666666, 0.9473684210526315, 0.6153846153846154, 0.9473684210526315, 0.6666666666666666, 0.9, 0.8888888888888888, 1.0, 0.7058823529411765, 0.8, 1.0, 0.875, 0.9333333333333333, 0.5, 0.9090909090909091, 0.8571428571428571, 0.7692307692307693, 0.375, 0.8571428571428571, 0.7058823529411765, 0.6666666666666666, 0.9166666666666666, 0.3076923076923077, 0.8, 0.5454545454545454, 0.9333333333333333, 0.875, 0.625, 0.7, 0.5714285714285714, 0.6666666666666666, 0.4, 0.47058823529411764, 0.5882352941176471, 0.4444444444444444, 0.625, 0.45454545454545453, 0.3076923076923077, 0.3076923076923077, 0.5333333333333333, 0.18181818181818182, 0.8235294117647058, 0.7142857142857143, 0.8571428571428571, 0.5714285714285714, 0.16666666666666666, 0.26666666666666666, 0.6666666666666666, 0.7058823529411765, 0.6666666666666666, 0.7142857142857143, 0.7692307692307693, 0.3076923076923077, 0.15384615384615385, 0.5454545454545454, 0.5333333333333333, 0.75, 0.5, 0.7272727272727273, 0.4, 0.625, 0.5, 0.8333333333333334, 0.3076923076923077, 0.7272727272727273, 0.4, 0.7142857142857143, 0.5454545454545454, 0.6153846153846154, 0.5, 0.4, 0.8, 0.375, 0.6153846153846154, 0.875, 0.46153846153846156, 0.5, 0.6666666666666666, 0.3333333333333333, 0.5333333333333333, 0.13333333333333333, 0.8333333333333334, 0.36363636363636365, 0.5454545454545454, 0.6, 0.2857142857142857, 0.23529411764705882, 0.6666666666666666, 0.5, 0.8235294117647058, 0.5, 0.5, 0.7272727272727273, 0.3076923076923077, 0.7142857142857143, 0.75, 0.6153846153846154, 0.2857142857142857, 0.18181818181818182, 0.3157894736842105, 0.8, 0.75, 0.75, 0.13333333333333333, 0.5555555555555556, 0.6666666666666666, 0.26666666666666666, 0.47058823529411764, 0.42857142857142855, 0.16666666666666666, 0.5714285714285714, 0.42857142857142855, 0.625, 0.15384615384615385, 0.2857142857142857, 0.6666666666666666, 0.5882352941176471, 0.7, 0.3076923076923077, 0.7368421052631579, 0.46153846153846156, 0.625, 0.6153846153846154, 0.8148148148148148, 0.6666666666666666, 0.6666666666666666, 0.2857142857142857, 0.08, 0.26666666666666666, 0.375, 0.5, 0.5714285714285714]\n",
      "203\n"
     ]
    }
   ],
   "source": [
    "wup_wp = get_wup_sim(syndict)[0]\n",
    "wup_similarity = get_wup_sim(syndict)[1]\n",
    "wup_count = get_wup_sim(syndict)[2]\n",
    "print(wup_similarity)\n",
    "print(wup_count)"
   ]
  },
  {
   "cell_type": "code",
   "execution_count": 21,
   "metadata": {},
   "outputs": [],
   "source": [
    "#### function for calculating Resnik similarity\n",
    "def res_sim(arg_res: tuple):\n",
    "    for i in arg_res[0]:\n",
    "        for j in arg_res[1]:\n",
    "            sim_res = i.res_similarity(j, brown_ic)\n",
    "    return sim_res"
   ]
  },
  {
   "cell_type": "code",
   "execution_count": 22,
   "metadata": {},
   "outputs": [],
   "source": [
    "#### function pass syndict to res_sim function and get the covered word pairs and their scores and put them in dictionary\n",
    "def get_res_sim(arg_res: dict):\n",
    "    wp = []\n",
    "    score = []\n",
    "    count = 0\n",
    "    for x in arg_res:\n",
    "        y = arg_res.get(x)\n",
    "        try:\n",
    "            aa = res_sim(y)\n",
    "            wp.append(x)\n",
    "            score.append(aa)\n",
    "            count += 1\n",
    "        except:\n",
    "            pass\n",
    "    return wp, score, count"
   ]
  },
  {
   "cell_type": "code",
   "execution_count": 23,
   "metadata": {},
   "outputs": [
    {
     "name": "stdout",
     "output_type": "stream",
     "text": [
      "[12.163014820068343, 0.8017591149538994, 2.333545243735693, -0.0, -0.0, 8.557516974893456, -0.0, 1.2900256809649917, -0.0, 8.856128117877429, 5.332140585422163, 9.475167326283652, 11.064402531400233, -0.0, 0.5962292078977726, 0.5962292078977726, 9.840627099778116, 4.946011690719864, 5.4058498997187066, -0.0, 4.946011690719864, 7.186970970741705, 2.644520854456544, 1.5318337432196856, 0.5962292078977726, 0.5962292078977726, 0.5962292078977726, 9.922305130792385, 0.5962292078977726, 0.5962292078977726, -0.0, 0.5962292078977726, 5.6789904580012625, -0.0, 0.8017591149538994, -0.0, 2.036327717785946, 0.8017591149538994, 1.2900256809649917, 1.2900256809649917, 1.5318337432196856, -0.0, -0.0, 2.3322377550841122, -0.0, 4.805713753742866, -0.0, 2.333545243735693, 0.5962292078977726, 2.036327717785946, -0.0, -0.0, 2.3322377550841122, 0.5962292078977726, 0.5962292078977726, 0.5962292078977726, 0.5962292078977726, 0.5962292078977726, 0.5962292078977726, 0.5962292078977726, 0.5962292078977726, 0.5962292078977726, 0.5962292078977726, 0.5962292078977726, 0.5962292078977726, -0.0, -0.0, 1.5927548636075812, 0.5962292078977726, 1.2900256809649917, -0.0, -0.0, -0.0, 0.8017591149538994]\n",
      "74\n"
     ]
    }
   ],
   "source": [
    "res_wp = get_res_sim(syndict)[0]\n",
    "res_similarity = get_res_sim(syndict)[1]\n",
    "res_count = get_res_sim(syndict)[2]\n",
    "print(res_similarity)\n",
    "print(res_count)"
   ]
  },
  {
   "cell_type": "code",
   "execution_count": 24,
   "metadata": {},
   "outputs": [],
   "source": [
    "#### function for calculating Jiang-Conrath similarity\n",
    "def jcn_sim(arg_jcn: tuple):\n",
    "    for i in arg_jcn[0]:\n",
    "        for j in arg_jcn[1]:\n",
    "            sim_jcn = i.jcn_similarity(j, brown_ic)\n",
    "    return sim_jcn"
   ]
  },
  {
   "cell_type": "code",
   "execution_count": 25,
   "metadata": {},
   "outputs": [],
   "source": [
    "#### function pass syndict to jcn_sim function and get the covered word pairs and their scores and put them in dictionary\n",
    "def get_jcn_sim(arg_jcn: dict):\n",
    "    wp = []\n",
    "    score = []\n",
    "    count = 0\n",
    "    for x in arg_jcn:\n",
    "        y = arg_jcn.get(x)\n",
    "        try:\n",
    "            aa = jcn_sim(y)\n",
    "            wp.append(x)\n",
    "            score.append(aa)\n",
    "            count += 1\n",
    "        except:\n",
    "            pass\n",
    "    return wp, score, count"
   ]
  },
  {
   "cell_type": "code",
   "execution_count": 26,
   "metadata": {},
   "outputs": [
    {
     "name": "stdout",
     "output_type": "stream",
     "text": [
      "[1e+300, 0.04082554435170421, 0.08179349503375358, 0.04334020033795523, 0.040417847656681334, 0.15047364858283407, 0.04357339178593681, 1e-300, 0.04326365683038909, 1e-300, 0.10366510987305491, 0.31262963211624767, 1e+300, 0.046870657341892843, 0.058327370014882855, 0.052576924167610485, 0.19994200144327437, 1e-300, 0.14799106012470342, 0.04155642893086027, 0.1385616691689416, 0.1322169828714825, 0.07495499829439693, 0.05554713604051203, 0.05046489408095446, 0.07449700854885627, 0.05985786738590651, 0.31000029892306336, 0.05486977886687364, 0.06445242456159847, 0.05104757779778013, 0.04869654946933087, 0.13452445571878877, 0.053960863562470436, 0.046449862678199894, 0.043582958845671704, 0.05451423761249539, 0.05689932587858479, 0.045301175554787534, 0.060320916638128066, 0.04711837796499018, 0.050142584480331404, 0.05770078882677994, 0.10907162378788522, 0.06411118820693093, 0.2207713767534711, 0.04674606973015484, 0.05996536837352761, 0.05296465703069383, 0.05446545299133869, 0.055983250498618374, 0.0579075171644229, 0.07240987201333089, 0.05407667274273024, 0.05928243438655944, 0.059838182248262706, 0.05934824367207625, 0.05102070840547128, 0.06165570771075369, 0.06348768585388087, 0.05934034826366149, 0.06573767266309069, 0.05638926697216642, 0.052134451367160745, 0.07075160815136768, 0.05128847966006889, 0.05873755892898112, 0.07112687703162755, 0.05293419108364181, 0.05458198169105455, 0.059975467823770064, 0.059430549966863984, 0.05595789425739903, 0.043508762073623655]\n",
      "74\n"
     ]
    }
   ],
   "source": [
    "jcn_wp = get_jcn_sim(syndict)[0]\n",
    "jcn_similarity = get_jcn_sim(syndict)[1]\n",
    "jcn_count = get_jcn_sim(syndict)[2]\n",
    "print(jcn_similarity)\n",
    "print(jcn_count)"
   ]
  },
  {
   "cell_type": "code",
   "execution_count": 27,
   "metadata": {},
   "outputs": [],
   "source": [
    "#### function for calculating lin similarity\n",
    "def lin_sim(arg_lin: tuple):\n",
    "    for i in arg_lin[0]:\n",
    "        for j in arg_lin[1]:\n",
    "            sim_lin = i.lin_similarity(j, semcor_ic)\n",
    "    return sim_lin"
   ]
  },
  {
   "cell_type": "code",
   "execution_count": 28,
   "metadata": {},
   "outputs": [],
   "source": [
    "#### function pass syndict to lin_sim function and get the covered word pairs and their scores and put them in dictionary\n",
    "def get_lin_sim(arg_lin: dict):\n",
    "    wp = []\n",
    "    score = []\n",
    "    count = 0\n",
    "    for x in arg_lin:\n",
    "        y = arg_lin.get(x)\n",
    "        try:\n",
    "            aa = lin_sim(y)\n",
    "            wp.append(x)\n",
    "            score.append(aa)\n",
    "            count += 1\n",
    "        except:\n",
    "            pass\n",
    "    return wp, score, count"
   ]
  },
  {
   "cell_type": "code",
   "execution_count": 29,
   "metadata": {},
   "outputs": [
    {
     "name": "stdout",
     "output_type": "stream",
     "text": [
      "[1.0, 6.143639493869085e-301, 0.2453154709738581, -0.0, -0.0, 1.6009119465902025e-299, -0.0, 1.1692001183611415e-300, -0.0, 1.5918194717748508e-299, 0.42395002857738157, 0.9813491453514377, 1.0, -0.0, 1.5588336601055495e-300, 1.5588336601055495e-300, 0.8894085538512806, 9.482221636381876e-300, 0.6451380645314496, -0.0, 0.5744408996571904, 0.6484765421052385, 0.28697525334159435, 2.73918055315749e-300, 1.5588336601055495e-300, 0.08269942882088153, 1.5588336601055495e-300, 1.1765759848644574e-299, 7.794168300527747e-301, 7.794168300527747e-301, -0.0, 7.794168300527747e-301, 1.1533646573395783e-299, -0.0, 1.228727898773817e-300, -0.0, 4.508260801620787e-300, 6.143639493869085e-301, 2.338400236722283e-300, 0.1111057741901099, 1.369590276578745e-300, -0.0, -0.0, 0.34668987423918285, -0.0, 0.6685421657588472, -0.0, 3.806605291332876e-300, 1.5588336601055495e-300, 4.508260801620787e-300, -0.0, -0.0, 5.2087993177802205e-300, 1.5588336601055495e-300, 7.794168300527747e-301, 1.5588336601055495e-300, 1.5588336601055495e-300, 7.794168300527747e-301, 1.5588336601055495e-300, 0.09115885766930924, 7.794168300527747e-301, 1.5588336601055495e-300, 0.07221633730668013, 7.794168300527747e-301, 0.08857374542535167, -0.0, -0.0, 0.192333241339356, 1.5588336601055495e-300, 0.11192554499178616, -0.0, -0.0, -0.0, 1.228727898773817e-300]\n",
      "74\n"
     ]
    }
   ],
   "source": [
    "lin_wp = get_lin_sim(syndict)[0]\n",
    "lin_similarity = get_lin_sim(syndict)[1]\n",
    "lin_count = get_lin_sim(syndict)[2]\n",
    "print(lin_similarity)\n",
    "print(lin_count)"
   ]
  },
  {
   "cell_type": "code",
   "execution_count": 30,
   "metadata": {},
   "outputs": [],
   "source": [
    "from scipy.stats import spearmanr"
   ]
  },
  {
   "cell_type": "code",
   "execution_count": 31,
   "metadata": {},
   "outputs": [],
   "source": [
    "#### result function calculate the spearman correlation and coverage\n",
    "def get_result(arg1, arg2, arg3):\n",
    "    new_hs = {k: v for k, v in arg2.items() if k in arg1}\n",
    "    hs = []\n",
    "    for x in new_hs:\n",
    "        y = new_hs.get(x)\n",
    "        hs.append(y)\n",
    "    corr, p_value = spearmanr(hs, arg3)\n",
    "    cor = round(corr, 4)\n",
    "    cov = len(hs)/len(arg2)\n",
    "    cover = round(cov, 2)\n",
    "    return cor, cover\n",
    "\n",
    "# correlation, coverage = get_result(lin_wp, human_scores, lin_similarity)\n",
    "# print(coverage)"
   ]
  },
  {
   "cell_type": "code",
   "execution_count": 32,
   "metadata": {},
   "outputs": [
    {
     "name": "stdout",
     "output_type": "stream",
     "text": [
      "0.5735\n",
      "1.0\n"
     ]
    }
   ],
   "source": [
    "# path similarity result:\n",
    "path_cor = get_result(path_wp, human_scores, path_similarity)[0]\n",
    "path_cover = get_result(path_wp, human_scores, path_similarity)[1]\n",
    "print(path_cor)\n",
    "print(path_cover)"
   ]
  },
  {
   "cell_type": "code",
   "execution_count": 33,
   "metadata": {},
   "outputs": [
    {
     "name": "stdout",
     "output_type": "stream",
     "text": [
      "0.1696\n",
      "0.36\n"
     ]
    }
   ],
   "source": [
    "# Leacock-Chodorow similarity result:\n",
    "lch_cor = get_result(lch_wp, human_scores, lch_similarity)[0]\n",
    "lch_cover = get_result(lch_wp, human_scores, lch_similarity)[1]\n",
    "print(lch_cor)\n",
    "print(lch_cover)"
   ]
  },
  {
   "cell_type": "code",
   "execution_count": 34,
   "metadata": {},
   "outputs": [
    {
     "name": "stdout",
     "output_type": "stream",
     "text": [
      "0.6141\n",
      "1.0\n"
     ]
    }
   ],
   "source": [
    "# Wu-Palmer similarity result:\n",
    "wup_cor = get_result(wup_wp, human_scores, wup_similarity)[0]\n",
    "wup_cover = get_result(wup_wp, human_scores, wup_similarity)[1]\n",
    "print(wup_cor)\n",
    "print(wup_cover)"
   ]
  },
  {
   "cell_type": "code",
   "execution_count": 35,
   "metadata": {},
   "outputs": [
    {
     "name": "stdout",
     "output_type": "stream",
     "text": [
      "0.2722\n",
      "0.36\n"
     ]
    }
   ],
   "source": [
    "# Resnik similarity result:\n",
    "res_cor = get_result(res_wp, human_scores, res_similarity)[0]\n",
    "res_cover = get_result(res_wp, human_scores, res_similarity)[1]\n",
    "print(res_cor)\n",
    "print(res_cover)"
   ]
  },
  {
   "cell_type": "code",
   "execution_count": 36,
   "metadata": {},
   "outputs": [
    {
     "name": "stdout",
     "output_type": "stream",
     "text": [
      "0.0256\n",
      "0.36\n"
     ]
    }
   ],
   "source": [
    "# Jiang-Conrath similarity result:\n",
    "jcn_cor = get_result(jcn_wp, human_scores, jcn_similarity)[0]\n",
    "jcn_cover = get_result(jcn_wp, human_scores, jcn_similarity)[1]\n",
    "print(jcn_cor)\n",
    "print(jcn_cover)"
   ]
  },
  {
   "cell_type": "code",
   "execution_count": 37,
   "metadata": {},
   "outputs": [
    {
     "name": "stdout",
     "output_type": "stream",
     "text": [
      "0.0854\n",
      "0.36\n"
     ]
    }
   ],
   "source": [
    "# Lin similarity result:\n",
    "lin_cor = get_result(lin_wp, human_scores, lin_similarity)[0]\n",
    "lin_cover = get_result(lin_wp, human_scores, lin_similarity)[1]\n",
    "print(lin_cor)\n",
    "print(lin_cover)"
   ]
  },
  {
   "cell_type": "code",
   "execution_count": 70,
   "metadata": {},
   "outputs": [
    {
     "name": "stdout",
     "output_type": "stream",
     "text": [
      "158\n"
     ]
    }
   ],
   "source": [
    "#### function read ppmi_result.tsv file into a dicitonary\n",
    "ppmiwp = []\n",
    "ppmiscore = []\n",
    "ppmi= open(\"ppmi_result.tsv\", \"r\")\n",
    "for lines in ppmi:\n",
    "    line = lines.rstrip().split(\"\\n\")\n",
    "    for l in line:\n",
    "        i = l.split(\"\\t\")\n",
    "        w1 = i[0]\n",
    "        w2 = i[1]\n",
    "        wp = (w1, w2)\n",
    "        ppmiwp.append(wp)\n",
    "        s = i[2]\n",
    "        ppmiscore.append(s)\n",
    "ppmi_dict = dict(zip(ppmiwp, ppmiscore))\n",
    "# print(ppmiwp)\n",
    "# print(ppmiscore)\n",
    "print(len(ppmiscore))       \n",
    "        "
   ]
  },
  {
   "cell_type": "code",
   "execution_count": 77,
   "metadata": {},
   "outputs": [
    {
     "name": "stdout",
     "output_type": "stream",
     "text": [
      "152\n"
     ]
    }
   ],
   "source": [
    "# new = {k: v for k, v in ppmi_dict.items() if k in word_pair or (k[1], k[0]) in word_pair}\n",
    "# print(len(new))"
   ]
  },
  {
   "cell_type": "code",
   "execution_count": 74,
   "metadata": {},
   "outputs": [
    {
     "name": "stdout",
     "output_type": "stream",
     "text": [
      "152\n"
     ]
    }
   ],
   "source": [
    "# new1 = {k: v for k, v in human_scores.items() if k in ppmiwp or (k[1], k[0]) in ppmiwp}\n",
    "# print(len(new1))"
   ]
  },
  {
   "cell_type": "code",
   "execution_count": 78,
   "metadata": {},
   "outputs": [
    {
     "name": "stdout",
     "output_type": "stream",
     "text": [
      "152\n",
      "152\n",
      "-0.3799\n"
     ]
    }
   ],
   "source": [
    "### calculating the correlation of ppmi result and human scores \n",
    "new = {k: v for k, v in ppmi_dict.items() if k in word_pair or (k[1], k[0]) in word_pair}\n",
    "print(len(new))\n",
    "# print(new)\n",
    "new1 = {k: v for k, v in human_scores.items() if k in ppmiwp or (k[1], k[0]) in ppmiwp}\n",
    "print(len(new1))\n",
    "# print(new1)\n",
    "ps = []\n",
    "hs = []\n",
    "for v in new:\n",
    "    vv = new.get(v)\n",
    "    ps.append(vv)\n",
    "for u in new1:\n",
    "    uu = new1.get(u)\n",
    "    hs.append(uu)\n",
    "ppmi_corr, ppmiv = spearmanr(ps, hs)\n",
    "ppmi_cor = round(ppmi_corr, 4)\n",
    "print(ppmi_cor)"
   ]
  },
  {
   "cell_type": "code",
   "execution_count": null,
   "metadata": {},
   "outputs": [],
   "source": [
    "### read the word2vec result file and write them into dictionary\n",
    "w2vwp = []\n",
    "w2vscore = []\n",
    "w2v = open(\"word2vec_result.tsv\", \"r\")\n",
    "for lines in w2v:\n",
    "    line = lines.rstrip().split(\"\\n\")\n",
    "    for l in line:\n",
    "        i = l.split(\"\\t\")\n",
    "        w1 = i[0]\n",
    "        w2 = i[1]\n",
    "        wp = (w1, w2)\n",
    "        w2vwp.append(wp)\n",
    "        s = i[2]\n",
    "        w2vscore.append(s)\n",
    "w2v_dict = dict(zip(w2vwp, w2vscore))\n",
    "# print(ppmiwp)\n",
    "# print(ppmiscore)\n",
    "print(len(w2vscore))       "
   ]
  },
  {
   "cell_type": "code",
   "execution_count": null,
   "metadata": {},
   "outputs": [],
   "source": [
    "#### calculating the spearman correlation of word2vec and human scores\n",
    "new2 = {k: v for k, v in human_scores.items() if k in w2vwp}\n",
    "print(len(new2))\n",
    "# print(new2)\n",
    "hhs = []\n",
    "for z in new2:\n",
    "    zz = new2.get(z)\n",
    "    hhs.append(zz)\n",
    "w2v_corr, w2vv = spearmanr(hhs, w2vscore)\n",
    "w2v_cor = round(w2v_corr, 4)\n",
    "print(w2v_cor)"
   ]
  }
 ],
 "metadata": {
  "kernelspec": {
   "display_name": "Python 3",
   "language": "python",
   "name": "python3"
  },
  "language_info": {
   "codemirror_mode": {
    "name": "ipython",
    "version": 3
   },
   "file_extension": ".py",
   "mimetype": "text/x-python",
   "name": "python",
   "nbconvert_exporter": "python",
   "pygments_lexer": "ipython3",
   "version": "3.7.7"
  }
 },
 "nbformat": 4,
 "nbformat_minor": 4
}
