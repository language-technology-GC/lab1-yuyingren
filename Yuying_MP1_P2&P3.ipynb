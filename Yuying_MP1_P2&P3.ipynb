{
 "cells": [
  {
   "cell_type": "code",
   "execution_count": 10,
   "metadata": {},
   "outputs": [
    {
     "name": "stdout",
     "output_type": "stream",
     "text": [
      "<class '_io.TextIOWrapper'>\n"
     ]
    }
   ],
   "source": [
    "news_file = open(\"news.2007.en.shuffled.deduped\", \"r\")\n",
    "print(type(news_file))"
   ]
  },
  {
   "cell_type": "code",
   "execution_count": 11,
   "metadata": {},
   "outputs": [
    {
     "name": "stderr",
     "output_type": "stream",
     "text": [
      "[nltk_data] Downloading package punkt to /Users/yuyingren/nltk_data...\n",
      "[nltk_data]   Package punkt is already up-to-date!\n"
     ]
    }
   ],
   "source": [
    "import nltk\n",
    "nltk.download('punkt')\n",
    "from nltk.tokenize import word_tokenize"
   ]
  },
  {
   "cell_type": "code",
   "execution_count": 12,
   "metadata": {},
   "outputs": [],
   "source": [
    "# text = \"God is Great! I won a lottery.\"\n",
    "# print(word_tokenize(text))"
   ]
  },
  {
   "cell_type": "code",
   "execution_count": 13,
   "metadata": {},
   "outputs": [],
   "source": [
    "### Tokenize data and. write them into txt file with a white space as seperator\n",
    "with open(\"news_tokens.txt\", \"w\") as output:\n",
    "    for line in news_file:\n",
    "        l = word_tokenize(line)\n",
    "        for w in l:\n",
    "            output.write(w + \" \")\n",
    "    output.close()"
   ]
  },
  {
   "cell_type": "code",
   "execution_count": 18,
   "metadata": {},
   "outputs": [
    {
     "name": "stdout",
     "output_type": "stream",
     "text": [
      "<class '_io.TextIOWrapper'>\n",
      "done\n"
     ]
    }
   ],
   "source": [
    "test= open(\"news_tokens.txt\", \"r\")\n",
    "print(type(test))\n",
    "print(\"done\")"
   ]
  },
  {
   "cell_type": "code",
   "execution_count": 19,
   "metadata": {
    "scrolled": true
   },
   "outputs": [
    {
     "name": "stdout",
     "output_type": "stream",
     "text": [
      "¿ Robert J. Spagnoletti , attorney general : $ 22,903** 32 : A `` red phone '' direct line . March 2\n"
     ]
    }
   ],
   "source": [
    "for u in test:\n",
    "    print(u[0:100])"
   ]
  },
  {
   "cell_type": "code",
   "execution_count": 20,
   "metadata": {
    "scrolled": true
   },
   "outputs": [
    {
     "name": "stdout",
     "output_type": "stream",
     "text": [
      "<class '_io.TextIOWrapper'>\n"
     ]
    }
   ],
   "source": [
    "file_353 = open(\"ws353.tsv\", \"r\")\n",
    "print(type(file_353))"
   ]
  },
  {
   "cell_type": "code",
   "execution_count": 21,
   "metadata": {
    "scrolled": true
   },
   "outputs": [
    {
     "name": "stdout",
     "output_type": "stream",
     "text": [
      "['7.35', '10.00', '5.77', '6.31', '6.77', '7.42', '6.19', '5.92', '7.00', '6.62', '6.81', '5.81', '7.73', '9.15', '8.58', '5.92', '6.69', '9.44', '9.03', '6.81', '6.63', '2.50', '7.35', '8.46', '8.13', '6.87', '8.94', '8.96', '9.29', '8.83', '9.10', '8.87', '9.02', '9.29', '8.79', '7.52', '7.10', '7.38', '4.42', '8.42', '9.04', '8.00', '8.00', '7.08', '6.85', '7.00', '4.77', '5.62', '8.08', '6.71', '5.58', '8.45', '8.08', '8.02', '5.85', '6.04', '6.85', '2.92', '3.69', '2.15', '7.42', '7.27', '8.66', '6.22', '6.50', '7.59', '7.56', '5.00', '8.13', '4.63', '7.88', '5.00', '8.97', '6.44', '8.88', '6.88', '7.81', '7.63', '8.44', '7.63', '7.78', '9.22', '7.13', '7.89', '7.47', '8.34', '8.70', '7.81', '5.70', '8.36', '8.30', '5.25', '8.53', '6.88', '7.44', '5.56', '7.83', '7.59', '7.19', '6.31', '5.00', '5.00', '4.97', '4.94', '4.94', '4.88', '4.81', '4.75', '4.75', '4.75', '4.69', '4.62', '4.59', '4.56', '4.50', '4.47', '4.47', '4.47', '4.46', '4.38', '4.38', '4.25', '4.25', '4.25', '4.13', '4.06', '4.06', '3.97', '3.91', '3.88', '3.88', '3.88', '3.88', '3.85', '3.78', '3.75', '3.73', '3.69', '3.69', '3.69', '3.69', '3.63', '3.63', '3.56', '3.47', '3.44', '3.38', '3.38', '3.31', '3.31', '3.31', '3.25', '3.19', '3.16', '3.15', '3.08', '3.04', '3.00', '3.00', '2.97', '2.94', '2.94', '2.88', '2.81', '2.75', '2.69', '2.69', '2.65', '2.63', '2.56', '2.56', '2.50', '2.40', '2.38', '2.38', '2.31', '2.25', '2.22', '2.08', '2.08', '1.94', '1.92', '1.85', '1.81', '1.81', '1.81', '1.77', '1.75', '1.62', '1.62', '1.31', '1.31', '1.19', '0.92', '0.92', '0.92', '0.92', '0.88', '0.62', '0.54', '0.54', '0.31', '0.23']\n"
     ]
    }
   ],
   "source": [
    "#### create the word pair TSV file\n",
    "word_pairs = []\n",
    "h_scores = []\n",
    "for line in file_353:\n",
    "    lines = line.rstrip().split(\"\\n\")\n",
    "    for item in lines:\n",
    "        items = item.split(\"\\t\")\n",
    "        t1 = items[0]\n",
    "        t2 = items[1]\n",
    "        wp = (t1, t2)\n",
    "        word_pairs.append(wp)\n",
    "        h_scores.append(items[2])\n",
    "print(h_scores)"
   ]
  },
  {
   "cell_type": "code",
   "execution_count": 23,
   "metadata": {},
   "outputs": [],
   "source": [
    "import csv\n",
    "with open(\"word_pairs.tsv\", 'w+') as f:\n",
    "    writer = csv.writer(f, delimiter='\\t')\n",
    "    for row in word_pairs:\n",
    "        writer.writerow(row)\n",
    "    f.close()"
   ]
  },
  {
   "cell_type": "code",
   "execution_count": 24,
   "metadata": {},
   "outputs": [],
   "source": [
    "### Create the result TSV File for word2vec and ppmi\n",
    "with open(\"word2vec_result.tsv\", 'w+') as q:\n",
    "    q.close()"
   ]
  },
  {
   "cell_type": "code",
   "execution_count": null,
   "metadata": {},
   "outputs": [],
   "source": []
  }
 ],
 "metadata": {
  "kernelspec": {
   "display_name": "Python 3",
   "language": "python",
   "name": "python3"
  },
  "language_info": {
   "codemirror_mode": {
    "name": "ipython",
    "version": 3
   },
   "file_extension": ".py",
   "mimetype": "text/x-python",
   "name": "python",
   "nbconvert_exporter": "python",
   "pygments_lexer": "ipython3",
   "version": "3.7.7"
  }
 },
 "nbformat": 4,
 "nbformat_minor": 4
}
